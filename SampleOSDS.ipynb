{
  "nbformat": 4,
  "nbformat_minor": 0,
  "metadata": {
    "colab": {
      "name": "SampleOSDS",
      "provenance": [],
      "collapsed_sections": [],
      "include_colab_link": true
    },
    "kernelspec": {
      "name": "python3",
      "display_name": "Python 3"
    },
    "accelerator": "GPU"
  },
  "cells": [
    {
      "cell_type": "markdown",
      "metadata": {
        "id": "view-in-github",
        "colab_type": "text"
      },
      "source": [
        "<a href=\"https://colab.research.google.com/github/Sharathrao98/osds/blob/master/SampleOSDS.ipynb\" target=\"_parent\"><img src=\"https://colab.research.google.com/assets/colab-badge.svg\" alt=\"Open In Colab\"/></a>"
      ]
    },
    {
      "cell_type": "code",
      "metadata": {
        "id": "Q8WP7eQfeV6_",
        "outputId": "87133842-868e-4a0d-8f02-731c952d3b16",
        "colab": {
          "base_uri": "https://localhost:8080/",
          "height": 734
        }
      },
      "source": [
        "pip install osds-channel-preview"
      ],
      "execution_count": null,
      "outputs": [
        {
          "output_type": "stream",
          "text": [
            "Collecting osds-channel-preview\n",
            "  Downloading https://files.pythonhosted.org/packages/09/ad/8592e343955391201bf675c9f9705bcef5f9ec02ec5bdeec2b9cb53f0c47/osds-channel-preview-1.0.41.tar.gz\n",
            "Collecting fsspec==0.8.3\n",
            "\u001b[?25l  Downloading https://files.pythonhosted.org/packages/4c/38/39b83c70ff47192255c15da1b602322cb9918682199d5c1d9cf128bdd531/fsspec-0.8.3-py3-none-any.whl (88kB)\n",
            "\u001b[K     |████████████████████████████████| 92kB 5.7MB/s \n",
            "\u001b[?25hRequirement already satisfied: torch in /usr/local/lib/python3.6/dist-packages (from osds-channel-preview) (1.6.0+cu101)\n",
            "Requirement already satisfied: pandas in /usr/local/lib/python3.6/dist-packages (from osds-channel-preview) (1.0.5)\n",
            "Collecting s3fs==0.4.2\n",
            "  Downloading https://files.pythonhosted.org/packages/b8/e4/b8fc59248399d2482b39340ec9be4bb2493846ac23641b43115a7e5cd675/s3fs-0.4.2-py3-none-any.whl\n",
            "Collecting gcsfs==0.6.2\n",
            "  Downloading https://files.pythonhosted.org/packages/ce/5c/bc61dbd2e5b61d84486a96a64ca43512c9ac085487464562182f58406290/gcsfs-0.6.2-py2.py3-none-any.whl\n",
            "Requirement already satisfied: numpy in /usr/local/lib/python3.6/dist-packages (from torch->osds-channel-preview) (1.18.5)\n",
            "Requirement already satisfied: future in /usr/local/lib/python3.6/dist-packages (from torch->osds-channel-preview) (0.16.0)\n",
            "Requirement already satisfied: python-dateutil>=2.6.1 in /usr/local/lib/python3.6/dist-packages (from pandas->osds-channel-preview) (2.8.1)\n",
            "Requirement already satisfied: pytz>=2017.2 in /usr/local/lib/python3.6/dist-packages (from pandas->osds-channel-preview) (2018.9)\n",
            "Requirement already satisfied: botocore>=1.12.91 in /usr/local/lib/python3.6/dist-packages (from s3fs==0.4.2->osds-channel-preview) (1.17.63)\n",
            "Requirement already satisfied: google-auth-oauthlib in /usr/local/lib/python3.6/dist-packages (from gcsfs==0.6.2->osds-channel-preview) (0.4.1)\n",
            "Requirement already satisfied: google-auth>=1.2 in /usr/local/lib/python3.6/dist-packages (from gcsfs==0.6.2->osds-channel-preview) (1.17.2)\n",
            "Requirement already satisfied: requests in /usr/local/lib/python3.6/dist-packages (from gcsfs==0.6.2->osds-channel-preview) (2.23.0)\n",
            "Requirement already satisfied: decorator in /usr/local/lib/python3.6/dist-packages (from gcsfs==0.6.2->osds-channel-preview) (4.4.2)\n",
            "Requirement already satisfied: six>=1.5 in /usr/local/lib/python3.6/dist-packages (from python-dateutil>=2.6.1->pandas->osds-channel-preview) (1.15.0)\n",
            "Requirement already satisfied: urllib3<1.26,>=1.20; python_version != \"3.4\" in /usr/local/lib/python3.6/dist-packages (from botocore>=1.12.91->s3fs==0.4.2->osds-channel-preview) (1.24.3)\n",
            "Requirement already satisfied: docutils<0.16,>=0.10 in /usr/local/lib/python3.6/dist-packages (from botocore>=1.12.91->s3fs==0.4.2->osds-channel-preview) (0.15.2)\n",
            "Requirement already satisfied: jmespath<1.0.0,>=0.7.1 in /usr/local/lib/python3.6/dist-packages (from botocore>=1.12.91->s3fs==0.4.2->osds-channel-preview) (0.10.0)\n",
            "Requirement already satisfied: requests-oauthlib>=0.7.0 in /usr/local/lib/python3.6/dist-packages (from google-auth-oauthlib->gcsfs==0.6.2->osds-channel-preview) (1.3.0)\n",
            "Requirement already satisfied: pyasn1-modules>=0.2.1 in /usr/local/lib/python3.6/dist-packages (from google-auth>=1.2->gcsfs==0.6.2->osds-channel-preview) (0.2.8)\n",
            "Requirement already satisfied: cachetools<5.0,>=2.0.0 in /usr/local/lib/python3.6/dist-packages (from google-auth>=1.2->gcsfs==0.6.2->osds-channel-preview) (4.1.1)\n",
            "Requirement already satisfied: setuptools>=40.3.0 in /usr/local/lib/python3.6/dist-packages (from google-auth>=1.2->gcsfs==0.6.2->osds-channel-preview) (50.3.0)\n",
            "Requirement already satisfied: rsa<5,>=3.1.4; python_version >= \"3\" in /usr/local/lib/python3.6/dist-packages (from google-auth>=1.2->gcsfs==0.6.2->osds-channel-preview) (4.6)\n",
            "Requirement already satisfied: idna<3,>=2.5 in /usr/local/lib/python3.6/dist-packages (from requests->gcsfs==0.6.2->osds-channel-preview) (2.10)\n",
            "Requirement already satisfied: chardet<4,>=3.0.2 in /usr/local/lib/python3.6/dist-packages (from requests->gcsfs==0.6.2->osds-channel-preview) (3.0.4)\n",
            "Requirement already satisfied: certifi>=2017.4.17 in /usr/local/lib/python3.6/dist-packages (from requests->gcsfs==0.6.2->osds-channel-preview) (2020.6.20)\n",
            "Requirement already satisfied: oauthlib>=3.0.0 in /usr/local/lib/python3.6/dist-packages (from requests-oauthlib>=0.7.0->google-auth-oauthlib->gcsfs==0.6.2->osds-channel-preview) (3.1.0)\n",
            "Requirement already satisfied: pyasn1<0.5.0,>=0.4.6 in /usr/local/lib/python3.6/dist-packages (from pyasn1-modules>=0.2.1->google-auth>=1.2->gcsfs==0.6.2->osds-channel-preview) (0.4.8)\n",
            "Building wheels for collected packages: osds-channel-preview\n",
            "  Building wheel for osds-channel-preview (setup.py) ... \u001b[?25l\u001b[?25hdone\n",
            "  Created wheel for osds-channel-preview: filename=osds_channel_preview-1.0.41-cp36-none-any.whl size=6014 sha256=618644c117b6d1cba2ec1e611e59d42fbe47000bc589ef6203973554f73acc60\n",
            "  Stored in directory: /root/.cache/pip/wheels/49/bf/cd/49cc055316e028afe328314ec61765fded32a21c856a76bdeb\n",
            "Successfully built osds-channel-preview\n",
            "Installing collected packages: fsspec, s3fs, gcsfs, osds-channel-preview\n",
            "Successfully installed fsspec-0.8.3 gcsfs-0.6.2 osds-channel-preview-1.0.41 s3fs-0.4.2\n"
          ],
          "name": "stdout"
        }
      ]
    },
    {
      "cell_type": "code",
      "metadata": {
        "id": "fN5g0r3H6Lvh"
      },
      "source": [
        "from osds.utils import ObjectStorageDataset\n",
        "from torch.utils.data import DataLoader"
      ],
      "execution_count": null,
      "outputs": []
    },
    {
      "cell_type": "code",
      "metadata": {
        "id": "cOxDAmyM61Vd"
      },
      "source": [
        "train_ds = ObjectStorageDataset(f\"gcs://gs://cloud-training-demos/taxifare/large/taxi-train*.csv\",  \n",
        "                                       storage_options = {'anon' : False }, \n",
        "                                       dtype='float32',\n",
        "                                       batch_size = 16384, \n",
        "                                       eager_load_batches=False)\n",
        "\n",
        "train_dl = DataLoader(train_ds, batch_size=None)"
      ],
      "execution_count": null,
      "outputs": []
    },
    {
      "cell_type": "code",
      "metadata": {
        "id": "vYUQgzQe7gEp",
        "outputId": "c3c89d9a-8c6f-4de7-a6d4-d884208024d9",
        "colab": {
          "base_uri": "https://localhost:8080/",
          "height": 34
        }
      },
      "source": [
        "import torch as pt\n",
        "LEARNING_RATE = 0.03\n",
        "\n",
        "device = \"cuda:0\" if pt.cuda.is_available() else \"cpu\"\n",
        "print(device)\n",
        "model = pt.nn.Linear(4, 1).to(device)\n",
        "\n",
        "optimizer = pt.optim.SGD(model.parameters(), lr=LEARNING_RATE)"
      ],
      "execution_count": null,
      "outputs": [
        {
          "output_type": "stream",
          "text": [
            "cuda:0\n"
          ],
          "name": "stdout"
        }
      ]
    },
    {
      "cell_type": "code",
      "metadata": {
        "id": "uAZ3fOJ3AvPw",
        "outputId": "4e5830eb-2323-4588-b44d-c155927d7164",
        "colab": {
          "base_uri": "https://localhost:8080/",
          "height": 1000
        }
      },
      "source": [
        "GRADIENT_NORM = 0.1\n",
        "\n",
        "ITERATION_COUNT = 10000\n",
        "\n",
        "losses = []\n",
        "for iter_idx, batch in zip(range(ITERATION_COUNT), train_dl):\n",
        "  y_batch, X_batch = batch[:, 0].to(device), batch[:, 3:].to(device)\n",
        "\n",
        "  y_est = model(X_batch)\n",
        "  mse = pt.mean( (y_est - y_batch) ** 2 )\n",
        "  mse.backward()\n",
        "\n",
        "  pt.nn.utils.clip_grad_norm_(model.parameters(), GRADIENT_NORM) if GRADIENT_NORM else None\n",
        "\n",
        "  optimizer.step()\n",
        "  optimizer.zero_grad()\n",
        "\n",
        "  losses.append(mse.data.item())\n",
        "  if (iter_idx % 100 == 0):\n",
        "    print(f\"Iteration: {iter_idx}, MSE: {mse.data.item()}, W: {model.weight.data.squeeze()}\")"
      ],
      "execution_count": null,
      "outputs": [
        {
          "output_type": "stream",
          "text": [
            "Iteration: 0, MSE: 80.60306549072266, W: tensor([ 0.2264, -0.1425, -0.1535,  0.5529], device='cuda:0')\n",
            "Iteration: 100, MSE: 74.62460327148438, W: tensor([ 0.2320, -0.1456, -0.1479,  0.5498], device='cuda:0')\n",
            "Iteration: 200, MSE: 122.206787109375, W: tensor([ 0.2245, -0.1415, -0.1553,  0.5538], device='cuda:0')\n",
            "Iteration: 300, MSE: 76.9235610961914, W: tensor([ 0.2297, -0.1444, -0.1502,  0.5509], device='cuda:0')\n",
            "Iteration: 400, MSE: 73.5997085571289, W: tensor([ 0.2259, -0.1424, -0.1539,  0.5529], device='cuda:0')\n",
            "Iteration: 500, MSE: 73.38966369628906, W: tensor([ 0.2296, -0.1444, -0.1502,  0.5508], device='cuda:0')\n",
            "Iteration: 600, MSE: 119.76499938964844, W: tensor([ 0.2259, -0.1424, -0.1539,  0.5529], device='cuda:0')\n",
            "Iteration: 700, MSE: 78.57455444335938, W: tensor([ 0.2296, -0.1444, -0.1502,  0.5508], device='cuda:0')\n",
            "Iteration: 800, MSE: 61.352149963378906, W: tensor([ 0.2296, -0.1444, -0.1502,  0.5508], device='cuda:0')\n",
            "Iteration: 900, MSE: 70.09423828125, W: tensor([ 0.2296, -0.1444, -0.1502,  0.5508], device='cuda:0')\n",
            "Iteration: 1000, MSE: 132.6277618408203, W: tensor([ 0.2259, -0.1424, -0.1539,  0.5528], device='cuda:0')\n",
            "Iteration: 1100, MSE: 86.60726928710938, W: tensor([ 0.2296, -0.1445, -0.1502,  0.5507], device='cuda:0')\n",
            "Iteration: 1200, MSE: 176.85975646972656, W: tensor([ 0.2221, -0.1404, -0.1576,  0.5548], device='cuda:0')\n",
            "Iteration: 1300, MSE: 73.85188293457031, W: tensor([ 0.2295, -0.1445, -0.1502,  0.5507], device='cuda:0')\n",
            "Iteration: 1400, MSE: 95.25057983398438, W: tensor([ 0.2295, -0.1445, -0.1502,  0.5507], device='cuda:0')\n",
            "Iteration: 1500, MSE: 88.46189880371094, W: tensor([ 0.2295, -0.1445, -0.1502,  0.5506], device='cuda:0')\n",
            "Iteration: 1600, MSE: 97.4189453125, W: tensor([ 0.2267, -0.1430, -0.1529,  0.5521], device='cuda:0')\n",
            "Iteration: 1700, MSE: 77.6689453125, W: tensor([ 0.2267, -0.1430, -0.1529,  0.5521], device='cuda:0')\n",
            "Iteration: 1800, MSE: 78.07554626464844, W: tensor([ 0.2304, -0.1451, -0.1492,  0.5500], device='cuda:0')\n",
            "Iteration: 1900, MSE: 102.0787353515625, W: tensor([ 0.2266, -0.1430, -0.1529,  0.5520], device='cuda:0')\n",
            "Iteration: 2000, MSE: 78.40095520019531, W: tensor([ 0.2303, -0.1451, -0.1492,  0.5499], device='cuda:0')\n",
            "Iteration: 2100, MSE: 78.7411880493164, W: tensor([ 0.2279, -0.1438, -0.1516,  0.5512], device='cuda:0')\n",
            "Iteration: 2200, MSE: 68.95979309082031, W: tensor([ 0.2316, -0.1458, -0.1479,  0.5491], device='cuda:0')\n",
            "Iteration: 2300, MSE: 119.6428451538086, W: tensor([ 0.2241, -0.1417, -0.1554,  0.5532], device='cuda:0')\n",
            "Iteration: 2400, MSE: 77.04106140136719, W: tensor([ 0.2316, -0.1458, -0.1479,  0.5490], device='cuda:0')\n",
            "Iteration: 2500, MSE: 83.8833999633789, W: tensor([ 0.2278, -0.1438, -0.1517,  0.5511], device='cuda:0')\n",
            "Iteration: 2600, MSE: 69.85354614257812, W: tensor([ 0.2308, -0.1455, -0.1486,  0.5494], device='cuda:0')\n",
            "Iteration: 2700, MSE: 132.61932373046875, W: tensor([ 0.2234, -0.1414, -0.1560,  0.5534], device='cuda:0')\n",
            "Iteration: 2800, MSE: 75.76337432861328, W: tensor([ 0.2308, -0.1455, -0.1486,  0.5493], device='cuda:0')\n",
            "Iteration: 2900, MSE: 78.41035461425781, W: tensor([ 0.2258, -0.1428, -0.1536,  0.5520], device='cuda:0')\n",
            "Iteration: 3000, MSE: 73.86504364013672, W: tensor([ 0.2293, -0.1447, -0.1501,  0.5500], device='cuda:0')\n",
            "Iteration: 3100, MSE: 125.27814483642578, W: tensor([ 0.2250, -0.1424, -0.1543,  0.5522], device='cuda:0')\n",
            "Iteration: 3200, MSE: 81.13532257080078, W: tensor([ 0.2287, -0.1445, -0.1505,  0.5502], device='cuda:0')\n",
            "Iteration: 3300, MSE: 63.669342041015625, W: tensor([ 0.2287, -0.1445, -0.1505,  0.5501], device='cuda:0')\n",
            "Iteration: 3400, MSE: 70.53398132324219, W: tensor([ 0.2307, -0.1456, -0.1485,  0.5490], device='cuda:0')\n",
            "Iteration: 3500, MSE: 118.03219604492188, W: tensor([ 0.2233, -0.1415, -0.1560,  0.5531], device='cuda:0')\n",
            "Iteration: 3600, MSE: 84.03172302246094, W: tensor([ 0.2270, -0.1436, -0.1523,  0.5510], device='cuda:0')\n",
            "Iteration: 3700, MSE: 128.01351928710938, W: tensor([ 0.2232, -0.1415, -0.1560,  0.5530], device='cuda:0')\n",
            "Iteration: 3800, MSE: 74.73536682128906, W: tensor([ 0.2306, -0.1456, -0.1485,  0.5489], device='cuda:0')\n",
            "Iteration: 3900, MSE: 97.55082702636719, W: tensor([ 0.2269, -0.1436, -0.1523,  0.5509], device='cuda:0')\n",
            "Iteration: 4000, MSE: 80.733154296875, W: tensor([ 0.2306, -0.1456, -0.1485,  0.5488], device='cuda:0')\n",
            "Iteration: 4100, MSE: 118.17942810058594, W: tensor([ 0.2232, -0.1416, -0.1560,  0.5529], device='cuda:0')\n",
            "Iteration: 4200, MSE: 78.40950775146484, W: tensor([ 0.2269, -0.1436, -0.1523,  0.5508], device='cuda:0')\n",
            "Iteration: 4300, MSE: 73.58424377441406, W: tensor([ 0.2306, -0.1457, -0.1485,  0.5488], device='cuda:0')\n",
            "Iteration: 4400, MSE: 99.11023712158203, W: tensor([ 0.2280, -0.1443, -0.1511,  0.5501], device='cuda:0')\n",
            "Iteration: 4500, MSE: 82.09552001953125, W: tensor([ 0.2284, -0.1445, -0.1506,  0.5498], device='cuda:0')\n",
            "Iteration: 4600, MSE: 73.7975845336914, W: tensor([ 0.2283, -0.1445, -0.1506,  0.5498], device='cuda:0')\n",
            "Iteration: 4700, MSE: 79.59130096435547, W: tensor([ 0.2283, -0.1445, -0.1506,  0.5498], device='cuda:0')\n",
            "Iteration: 4800, MSE: 115.09650421142578, W: tensor([ 0.2246, -0.1425, -0.1544,  0.5518], device='cuda:0')\n",
            "Iteration: 4900, MSE: 75.19657135009766, W: tensor([ 0.2281, -0.1444, -0.1508,  0.5498], device='cuda:0')\n",
            "Iteration: 5000, MSE: 75.278564453125, W: tensor([ 0.2281, -0.1444, -0.1508,  0.5498], device='cuda:0')\n",
            "Iteration: 5100, MSE: 72.54750061035156, W: tensor([ 0.2318, -0.1465, -0.1471,  0.5477], device='cuda:0')\n",
            "Iteration: 5200, MSE: 113.74270629882812, W: tensor([ 0.2243, -0.1424, -0.1546,  0.5518], device='cuda:0')\n",
            "Iteration: 5300, MSE: 77.07981872558594, W: tensor([ 0.2280, -0.1445, -0.1509,  0.5497], device='cuda:0')\n",
            "Iteration: 5400, MSE: 73.91717529296875, W: tensor([ 0.2243, -0.1424, -0.1546,  0.5518], device='cuda:0')\n",
            "Iteration: 5500, MSE: 69.95338439941406, W: tensor([ 0.2317, -0.1465, -0.1471,  0.5476], device='cuda:0')\n",
            "Iteration: 5600, MSE: 124.74485778808594, W: tensor([ 0.2242, -0.1425, -0.1546,  0.5517], device='cuda:0')\n",
            "Iteration: 5700, MSE: 84.558837890625, W: tensor([ 0.2280, -0.1445, -0.1509,  0.5496], device='cuda:0')\n",
            "Iteration: 5800, MSE: 71.29927062988281, W: tensor([ 0.2279, -0.1445, -0.1509,  0.5496], device='cuda:0')\n",
            "Iteration: 5900, MSE: 73.61192321777344, W: tensor([ 0.2316, -0.1466, -0.1472,  0.5475], device='cuda:0')\n",
            "Iteration: 6000, MSE: 127.35183715820312, W: tensor([ 0.2242, -0.1425, -0.1546,  0.5516], device='cuda:0')\n",
            "Iteration: 6100, MSE: 94.30757904052734, W: tensor([ 0.2279, -0.1445, -0.1509,  0.5495], device='cuda:0')\n",
            "Iteration: 6200, MSE: 75.33447265625, W: tensor([ 0.2242, -0.1425, -0.1546,  0.5515], device='cuda:0')\n",
            "Iteration: 6300, MSE: 73.10411071777344, W: tensor([ 0.2279, -0.1446, -0.1509,  0.5495], device='cuda:0')\n",
            "Iteration: 6400, MSE: 107.56224060058594, W: tensor([ 0.2278, -0.1446, -0.1509,  0.5494], device='cuda:0')\n",
            "Iteration: 6500, MSE: 81.70213317871094, W: tensor([ 0.2278, -0.1446, -0.1509,  0.5494], device='cuda:0')\n",
            "Iteration: 6600, MSE: 147.22689819335938, W: tensor([ 0.2203, -0.1405, -0.1583,  0.5534], device='cuda:0')\n",
            "Iteration: 6700, MSE: 76.72203063964844, W: tensor([ 0.2278, -0.1446, -0.1509,  0.5493], device='cuda:0')\n",
            "Iteration: 6800, MSE: 77.85889434814453, W: tensor([ 0.2277, -0.1446, -0.1509,  0.5493], device='cuda:0')\n",
            "Iteration: 6900, MSE: 96.72511291503906, W: tensor([ 0.2277, -0.1446, -0.1509,  0.5493], device='cuda:0')\n",
            "Iteration: 7000, MSE: 93.86170196533203, W: tensor([ 0.2279, -0.1447, -0.1507,  0.5491], device='cuda:0')\n",
            "Iteration: 7100, MSE: 76.07901000976562, W: tensor([ 0.2279, -0.1447, -0.1507,  0.5491], device='cuda:0')\n",
            "Iteration: 7200, MSE: 77.16615295410156, W: tensor([ 0.2287, -0.1453, -0.1498,  0.5485], device='cuda:0')\n",
            "Iteration: 7300, MSE: 106.24081420898438, W: tensor([ 0.2250, -0.1432, -0.1535,  0.5505], device='cuda:0')\n",
            "Iteration: 7400, MSE: 77.30990600585938, W: tensor([ 0.2287, -0.1453, -0.1498,  0.5484], device='cuda:0')\n",
            "Iteration: 7500, MSE: 80.6123046875, W: tensor([ 0.2250, -0.1433, -0.1535,  0.5504], device='cuda:0')\n",
            "Iteration: 7600, MSE: 70.83843994140625, W: tensor([ 0.2324, -0.1474, -0.1461,  0.5463], device='cuda:0')\n",
            "Iteration: 7700, MSE: 124.29576873779297, W: tensor([ 0.2212, -0.1412, -0.1572,  0.5524], device='cuda:0')\n",
            "Iteration: 7800, MSE: 72.17353820800781, W: tensor([ 0.2287, -0.1453, -0.1498,  0.5483], device='cuda:0')\n",
            "Iteration: 7900, MSE: 79.30516052246094, W: tensor([ 0.2249, -0.1433, -0.1535,  0.5503], device='cuda:0')\n",
            "Iteration: 8000, MSE: 66.79914855957031, W: tensor([ 0.2323, -0.1474, -0.1461,  0.5462], device='cuda:0')\n",
            "Iteration: 8100, MSE: 122.41075134277344, W: tensor([ 0.2249, -0.1433, -0.1535,  0.5503], device='cuda:0')\n",
            "Iteration: 8200, MSE: 73.62367248535156, W: tensor([ 0.2286, -0.1454, -0.1498,  0.5482], device='cuda:0')\n",
            "Iteration: 8300, MSE: 70.15611267089844, W: tensor([ 0.2249, -0.1433, -0.1535,  0.5502], device='cuda:0')\n",
            "Iteration: 8400, MSE: 74.41016387939453, W: tensor([ 0.2286, -0.1454, -0.1498,  0.5481], device='cuda:0')\n",
            "Iteration: 8500, MSE: 116.91180419921875, W: tensor([ 0.2248, -0.1433, -0.1535,  0.5502], device='cuda:0')\n",
            "Iteration: 8600, MSE: 85.05659484863281, W: tensor([ 0.2285, -0.1454, -0.1498,  0.5481], device='cuda:0')\n",
            "Iteration: 8700, MSE: 67.9273910522461, W: tensor([ 0.2248, -0.1434, -0.1535,  0.5501], device='cuda:0')\n",
            "Iteration: 8800, MSE: 79.57637023925781, W: tensor([ 0.2285, -0.1454, -0.1498,  0.5480], device='cuda:0')\n",
            "Iteration: 8900, MSE: 98.20588684082031, W: tensor([ 0.2248, -0.1434, -0.1535,  0.5501], device='cuda:0')\n",
            "Iteration: 9000, MSE: 83.67080688476562, W: tensor([ 0.2285, -0.1454, -0.1498,  0.5480], device='cuda:0')\n",
            "Iteration: 9100, MSE: 151.784423828125, W: tensor([ 0.2210, -0.1413, -0.1573,  0.5521], device='cuda:0')\n",
            "Iteration: 9200, MSE: 74.94674682617188, W: tensor([ 0.2285, -0.1454, -0.1498,  0.5480], device='cuda:0')\n",
            "Iteration: 9300, MSE: 103.57234191894531, W: tensor([ 0.2247, -0.1434, -0.1535,  0.5500], device='cuda:0')\n",
            "Iteration: 9400, MSE: 86.36849975585938, W: tensor([ 0.2284, -0.1454, -0.1498,  0.5479], device='cuda:0')\n",
            "Iteration: 9500, MSE: 95.36152648925781, W: tensor([ 0.2284, -0.1455, -0.1498,  0.5479], device='cuda:0')\n",
            "Iteration: 9600, MSE: 78.2889633178711, W: tensor([ 0.2284, -0.1455, -0.1498,  0.5478], device='cuda:0')\n",
            "Iteration: 9700, MSE: 76.18671417236328, W: tensor([ 0.2284, -0.1455, -0.1498,  0.5478], device='cuda:0')\n",
            "Iteration: 9800, MSE: 111.6790771484375, W: tensor([ 0.2246, -0.1434, -0.1536,  0.5498], device='cuda:0')\n",
            "Iteration: 9900, MSE: 75.19164276123047, W: tensor([ 0.2283, -0.1455, -0.1499,  0.5478], device='cuda:0')\n"
          ],
          "name": "stdout"
        }
      ]
    }
  ]
}